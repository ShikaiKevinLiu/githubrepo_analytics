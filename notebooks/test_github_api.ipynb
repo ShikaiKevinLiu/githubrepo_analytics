{
 "cells": [
  {
   "cell_type": "code",
   "execution_count": 13,
   "metadata": {},
   "outputs": [
    {
     "name": "stdout",
     "output_type": "stream",
     "text": [
      "/opt/homebrew/Cellar/python@3.12/3.12.3/Frameworks/Python.framework/Versions/3.12/lib/python312.zip\n",
      "/opt/homebrew/Cellar/python@3.12/3.12.3/Frameworks/Python.framework/Versions/3.12/lib/python3.12\n",
      "/opt/homebrew/Cellar/python@3.12/3.12.3/Frameworks/Python.framework/Versions/3.12/lib/python3.12/lib-dynload\n",
      "\n",
      "/Users/shikailiu/.local/share/virtualenvs/repo_analytics-HRaL8j99/lib/python3.12/site-packages\n",
      "/Users/shikailiu/Desktop/repo_analytics\n",
      "/Users/shikailiu/Desktop\n",
      "/Users/shikailiu/Desktop/repo_analytics\n",
      "/Users/shikailiu/Desktop\n",
      "/Users/shikailiu/Desktop/repo_analytics\n",
      "/Users/shikailiu/Desktop\n",
      "/Users/shikailiu/Desktop/repo_analytics\n",
      "/Users/shikailiu/Desktop\n",
      "/Users/shikailiu/Desktop/repo_analytics\n",
      "/Users/shikailiu/Desktop\n",
      "{'etl': {'GOOGLE_CREDENTIALS_PATH': '/Users/shikailiu/clean-node-420103-6e83908c3a44.json', 'GITHUB_TOKEN_PATH': '/Users/shikailiu/gh_token.json', 'GITHUB_API_URL': 'https://api.github.com/graphql'}}\n"
     ]
    }
   ],
   "source": [
    "# %%\n",
    "import os\n",
    "import yaml\n",
    "import sys\n",
    "import json\n",
    "import time\n",
    "from tqdm import tqdm\n",
    "import requests\n",
    "import pandas as pd\n",
    "\n",
    "# temporary solution for relative imports when testing the code\n",
    "sys.path.append(os.path.abspath(os.path.join(os.path.dirname(\"__file__\"), '..')))\n",
    "sys.path.append(os.path.abspath(os.path.join(os.path.dirname(\"__file__\"), '../..')))\n",
    "for i in sys.path:\n",
    "    print(i)\n",
    "from repo_analytics.utils.generate_query import generate_query\n",
    "\n",
    "# %%\n",
    "# Your personal access token from GitHub\n",
    "with open(\"../repo_analytics/config/config.yaml\", 'r', encoding='utf-8') as file:\n",
    "    configs = yaml.safe_load(file)\n",
    "print(configs)\n",
    "GITHUB_TOKEN_PATH = configs[\"etl\"][\"GITHUB_TOKEN_PATH\"]\n",
    "GITHUB_API_URL = configs[\"etl\"][\"GITHUB_API_URL\"]\n",
    "GITHUB_TOKEN = json.load(open(GITHUB_TOKEN_PATH, encoding='utf-8'))['key']\n",
    "\n",
    "# Headers include the authentication token and the content type\n",
    "headers = {\n",
    "    \"Authorization\": f\"Bearer {GITHUB_TOKEN}\",\n",
    "    \"Content-Type\": \"application/json\",\n",
    "}\n",
    "\n"
   ]
  },
  {
   "cell_type": "code",
   "execution_count": 28,
   "metadata": {},
   "outputs": [
    {
     "name": "stderr",
     "output_type": "stream",
     "text": [
      "100%|██████████| 25/25 [01:40<00:00,  4.03s/it]\n"
     ]
    }
   ],
   "source": [
    "# %%\n",
    "watch_2023 = pd.read_csv(\"../tmp/2023_watch.csv\")\n",
    "watch_2023['owner'] = watch_2023['name'].str.split('/').str[0]\n",
    "watch_2023['repo'] = watch_2023['name'].str.split('/').str[1]\n",
    "\n",
    "query_pairs = list(zip(watch_2023['owner'], watch_2023['repo']))\n",
    "\n",
    "for i in tqdm(range(1,5000, 200)):\n",
    "    query = generate_query(query_pairs[i:i+200])\n",
    "\n",
    "    # Payload is a dictionary with the key 'query' holding the GraphQL query\n",
    "    payload = {\n",
    "        \"query\": query\n",
    "    }\n",
    "\n",
    "    # Convert the payload to JSON format\n",
    "    json_payload = json.dumps(payload)\n",
    "\n",
    "    # Make the POST request\n",
    "    response = requests.post(GITHUB_API_URL, headers=headers, data=json_payload)\n",
    "\n",
    "    # Print the response (status code and returned data)\n",
    "    #print(response.status_code)\n",
    "    if response.status_code != 200:\n",
    "        print(\"Error: API request failed\")\n",
    "        break\n",
    "    # file_path = f\"./tmp/gh_api_data/data_{i}_{i+99}.json\"\n",
    "\n",
    "    # # Write JSON data to file\n",
    "    # with open(file_path, \"w\") as json_file:\n",
    "    #     json.dump(response.json()['data'], json_file)\n",
    "    # time.sleep(20)\n"
   ]
  },
  {
   "cell_type": "code",
   "execution_count": 19,
   "metadata": {},
   "outputs": [
    {
     "name": "stdout",
     "output_type": "stream",
     "text": [
      "Limit: 5000\n",
      "Cost: 1\n",
      "Remaining: 4980\n",
      "Reset At: 2024-06-03T07:05:01Z\n"
     ]
    }
   ],
   "source": [
    "\n",
    "url = \"https://api.github.com/graphql\"\n",
    "token = GITHUB_TOKEN\n",
    "\n",
    "query = \"\"\"\n",
    "{\n",
    "  rateLimit {\n",
    "    limit\n",
    "    cost\n",
    "    remaining\n",
    "    resetAt\n",
    "  }\n",
    "}\n",
    "\"\"\"\n",
    "\n",
    "headers = {\n",
    "    \"Authorization\": f\"Bearer {token}\",\n",
    "    \"Content-Type\": \"application/json\"\n",
    "}\n",
    "\n",
    "response = requests.post(GITHUB_API_URL, json={'query': query}, headers=headers)\n",
    "\n",
    "if response.status_code == 200:\n",
    "    data = response.json()\n",
    "    rate_limit = data['data']['rateLimit']\n",
    "    print(f\"Limit: {rate_limit['limit']}\")\n",
    "    print(f\"Cost: {rate_limit['cost']}\")\n",
    "    print(f\"Remaining: {rate_limit['remaining']}\")\n",
    "    print(f\"Reset At: {rate_limit['resetAt']}\")\n",
    "else:\n",
    "    print(f\"Query failed with status code: {response.status_code}\")\n",
    "    print(f\"Response: {response.json()}\")\n"
   ]
  },
  {
   "cell_type": "code",
   "execution_count": 29,
   "metadata": {},
   "outputs": [
    {
     "data": {
      "text/plain": [
       "200"
      ]
     },
     "execution_count": 29,
     "metadata": {},
     "output_type": "execute_result"
    }
   ],
   "source": [
    "len(response.json()['data'])"
   ]
  },
  {
   "cell_type": "code",
   "execution_count": null,
   "metadata": {},
   "outputs": [],
   "source": []
  }
 ],
 "metadata": {
  "kernelspec": {
   "display_name": "repo_analytics-HRaL8j99",
   "language": "python",
   "name": "python3"
  },
  "language_info": {
   "codemirror_mode": {
    "name": "ipython",
    "version": 3
   },
   "file_extension": ".py",
   "mimetype": "text/x-python",
   "name": "python",
   "nbconvert_exporter": "python",
   "pygments_lexer": "ipython3",
   "version": "3.12.3"
  }
 },
 "nbformat": 4,
 "nbformat_minor": 2
}
