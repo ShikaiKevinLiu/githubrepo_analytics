{
 "cells": [
  {
   "cell_type": "code",
   "execution_count": 1,
   "metadata": {},
   "outputs": [],
   "source": [
    "import pandas as pd \n",
    "from ipysigma import Sigma"
   ]
  },
  {
   "cell_type": "code",
   "execution_count": 2,
   "metadata": {},
   "outputs": [],
   "source": [
    "follows_df = pd.read_csv('../tmp/network_data.csv')\n",
    "# follows_df.sample(3)"
   ]
  },
  {
   "cell_type": "code",
   "execution_count": 4,
   "metadata": {},
   "outputs": [
    {
     "data": {
      "text/html": [
       "<div>\n",
       "<style scoped>\n",
       "    .dataframe tbody tr th:only-of-type {\n",
       "        vertical-align: middle;\n",
       "    }\n",
       "\n",
       "    .dataframe tbody tr th {\n",
       "        vertical-align: top;\n",
       "    }\n",
       "\n",
       "    .dataframe thead th {\n",
       "        text-align: right;\n",
       "    }\n",
       "</style>\n",
       "<table border=\"1\" class=\"dataframe\">\n",
       "  <thead>\n",
       "    <tr style=\"text-align: right;\">\n",
       "      <th></th>\n",
       "      <th>Source</th>\n",
       "      <th>Target</th>\n",
       "      <th>Weight</th>\n",
       "    </tr>\n",
       "  </thead>\n",
       "  <tbody>\n",
       "    <tr>\n",
       "      <th>0</th>\n",
       "      <td>android</td>\n",
       "      <td>jetpack-compose</td>\n",
       "      <td>16</td>\n",
       "    </tr>\n",
       "    <tr>\n",
       "      <th>1</th>\n",
       "      <td>android</td>\n",
       "      <td>music-player</td>\n",
       "      <td>4</td>\n",
       "    </tr>\n",
       "    <tr>\n",
       "      <th>2</th>\n",
       "      <td>android</td>\n",
       "      <td>youtube</td>\n",
       "      <td>5</td>\n",
       "    </tr>\n",
       "    <tr>\n",
       "      <th>3</th>\n",
       "      <td>android</td>\n",
       "      <td>music</td>\n",
       "      <td>4</td>\n",
       "    </tr>\n",
       "    <tr>\n",
       "      <th>7</th>\n",
       "      <td>music-player</td>\n",
       "      <td>youtube</td>\n",
       "      <td>5</td>\n",
       "    </tr>\n",
       "    <tr>\n",
       "      <th>...</th>\n",
       "      <td>...</td>\n",
       "      <td>...</td>\n",
       "      <td>...</td>\n",
       "    </tr>\n",
       "    <tr>\n",
       "      <th>143778</th>\n",
       "      <td>linux</td>\n",
       "      <td>mqtt</td>\n",
       "      <td>2</td>\n",
       "    </tr>\n",
       "    <tr>\n",
       "      <th>143960</th>\n",
       "      <td>offline-first</td>\n",
       "      <td>react</td>\n",
       "      <td>2</td>\n",
       "    </tr>\n",
       "    <tr>\n",
       "      <th>144074</th>\n",
       "      <td>adult</td>\n",
       "      <td>scraper</td>\n",
       "      <td>2</td>\n",
       "    </tr>\n",
       "    <tr>\n",
       "      <th>144505</th>\n",
       "      <td>admin</td>\n",
       "      <td>backend</td>\n",
       "      <td>2</td>\n",
       "    </tr>\n",
       "    <tr>\n",
       "      <th>145335</th>\n",
       "      <td>ast</td>\n",
       "      <td>java</td>\n",
       "      <td>2</td>\n",
       "    </tr>\n",
       "  </tbody>\n",
       "</table>\n",
       "<p>20066 rows × 3 columns</p>\n",
       "</div>"
      ],
      "text/plain": [
       "               Source           Target  Weight\n",
       "0             android  jetpack-compose      16\n",
       "1             android     music-player       4\n",
       "2             android          youtube       5\n",
       "3             android            music       4\n",
       "7        music-player          youtube       5\n",
       "...               ...              ...     ...\n",
       "143778          linux             mqtt       2\n",
       "143960  offline-first            react       2\n",
       "144074          adult          scraper       2\n",
       "144505          admin          backend       2\n",
       "145335            ast             java       2\n",
       "\n",
       "[20066 rows x 3 columns]"
      ]
     },
     "execution_count": 4,
     "metadata": {},
     "output_type": "execute_result"
    }
   ],
   "source": [
    "sub_df = follows_df.query(\"Weight > 1\")\n"
   ]
  },
  {
   "cell_type": "code",
   "execution_count": 5,
   "metadata": {},
   "outputs": [],
   "source": [
    "import pandas as pd\n",
    "import networkx as nx\n",
    "\n",
    "\n",
    "\n",
    "# Initialize a Graph\n",
    "G = nx.Graph()\n",
    "\n",
    "# Add edges to the graph\n",
    "for idx, row in sub_df.iterrows():\n",
    "    G.add_edge(row['Source'], row['Target'], weight=row['Weight'])\n",
    "\n",
    "# Optional: View the edges with weights\n",
    "# print(G.edges(data=True))"
   ]
  },
  {
   "cell_type": "code",
   "execution_count": 6,
   "metadata": {},
   "outputs": [],
   "source": [
    "Sigma.write_html(\n",
    "    G,\n",
    "    './dataset5.html',\n",
    "    fullscreen=True,\n",
    "    node_metrics=['louvain'],\n",
    "    node_color='louvain',\n",
    "    default_edge_type='curve',\n",
    "    node_size=G.degree,\n",
    "    start_layout=15\n",
    "\n",
    ")"
   ]
  },
  {
   "cell_type": "code",
   "execution_count": 5,
   "metadata": {},
   "outputs": [
    {
     "name": "stdout",
     "output_type": "stream",
     "text": [
      "{'etl': {'GOOGLE_CREDENTIALS_PATH': '/Users/shikailiu/clean-node-420103-6e83908c3a44.json', 'GITHUB_TOKEN_PATH': '/Users/shikailiu/gh_token.json', 'GITHUB_API_URL': 'https://api.github.com/graphql', 'AWS_CREDENTIAL_PATH': '/Users/shikailiu/.aws/credentials.json'}}\n"
     ]
    }
   ],
   "source": [
    "import boto3\n",
    "import yaml\n",
    "import requests\n",
    "import json\n",
    "with open(\"../repo_analytics/config/config.yaml\", 'r', encoding='utf-8') as file:\n",
    "    configs = yaml.safe_load(file)\n",
    "print(configs)\n"
   ]
  },
  {
   "cell_type": "code",
   "execution_count": 6,
   "metadata": {},
   "outputs": [],
   "source": [
    "AWS_CREDENTIAL_PATH = configs[\"etl\"][\"AWS_CREDENTIAL_PATH\"]\n",
    "AWS_CREDENTIAL = json.load(open(AWS_CREDENTIAL_PATH, encoding='utf-8'))\n",
    "\n",
    "\n",
    "\n",
    "AWS_ID = AWS_CREDENTIAL[\"aws_access_key_id\"]\n",
    "AWS_KEY = AWS_CREDENTIAL[\"aws_secret_access_key\"]\n",
    "# 配置 S3 客户端，boto3 将自动读取 ~/.aws/credentials 中的凭证"
   ]
  },
  {
   "cell_type": "code",
   "execution_count": 17,
   "metadata": {},
   "outputs": [],
   "source": [
    "s3 = boto3.client(\n",
    "    's3',\n",
    "    aws_access_key_id=AWS_ID,\n",
    "    aws_secret_access_key=AWS_KEY,\n",
    "    region_name='us-west-1'\n",
    ")\n",
    "\n",
    "\n",
    "\n",
    "    # 写入 S3 存储桶\n",
    "bucket_name = 'static-webpage-sliu'\n",
    "# 定义要上传的文件和目标存储桶\n",
    "file_path = './dataset5.html'\n",
    "file_key = '11223.html'\n",
    "\n",
    "# 定义上传额外参数\n",
    "extra_args = {\n",
    "    'ContentType': 'text/html'\n",
    "}\n",
    "\n",
    "# 上传文件到 S3\n",
    "s3.upload_file(file_path, bucket_name, file_key, ExtraArgs=extra_args)\n"
   ]
  },
  {
   "cell_type": "code",
   "execution_count": null,
   "metadata": {},
   "outputs": [],
   "source": []
  }
 ],
 "metadata": {
  "kernelspec": {
   "display_name": "repo_analytics-HRaL8j99",
   "language": "python",
   "name": "python3"
  },
  "language_info": {
   "codemirror_mode": {
    "name": "ipython",
    "version": 3
   },
   "file_extension": ".py",
   "mimetype": "text/x-python",
   "name": "python",
   "nbconvert_exporter": "python",
   "pygments_lexer": "ipython3",
   "version": "3.12.3"
  }
 },
 "nbformat": 4,
 "nbformat_minor": 2
}
